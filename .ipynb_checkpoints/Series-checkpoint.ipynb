{
 "cells": [
  {
   "cell_type": "code",
   "execution_count": 2,
   "id": "01b477e1-bccc-448b-a6e9-25b4ad4fec04",
   "metadata": {},
   "outputs": [],
   "source": [
    "import pandas as pd"
   ]
  },
  {
   "cell_type": "code",
   "execution_count": 7,
   "id": "ea07cd4e-ef56-4427-9a2b-2be0fb34efe6",
   "metadata": {},
   "outputs": [],
   "source": [
    "headers = ['Names', 'Age', 'Weight']\n",
    "values = ['AbKdrt', 28, 64]\n",
    "\n",
    "my_ser = pd.Series(data=values, index= headers)"
   ]
  },
  {
   "cell_type": "code",
   "execution_count": 8,
   "id": "5952cffc-5607-443c-953b-4cc8aab98a52",
   "metadata": {},
   "outputs": [
    {
     "data": {
      "text/plain": [
       "Names     AbKdrt\n",
       "Age           28\n",
       "Weight        64\n",
       "dtype: object"
      ]
     },
     "execution_count": 8,
     "metadata": {},
     "output_type": "execute_result"
    }
   ],
   "source": [
    "my_ser"
   ]
  },
  {
   "cell_type": "code",
   "execution_count": 10,
   "id": "4c5b2717-b4f2-425e-9622-76e4e34931ad",
   "metadata": {},
   "outputs": [
    {
     "data": {
      "text/plain": [
       "0    AbKdrt\n",
       "1        28\n",
       "2        64\n",
       "dtype: object"
      ]
     },
     "execution_count": 10,
     "metadata": {},
     "output_type": "execute_result"
    }
   ],
   "source": [
    "my_second_ser = pd.Series(values)\n",
    "my_second_ser"
   ]
  },
  {
   "cell_type": "code",
   "execution_count": 3,
   "id": "138c919d-9ceb-4ec7-b582-28510b430d4b",
   "metadata": {},
   "outputs": [],
   "source": [
    "sem_1 = pd.Series(data=[45, 25], index=['Math', 'Physics'])\n",
    "sem_2 = pd.Series(data=[64, 35, 10], index=['Algebra', 'CS', 'Physics'])"
   ]
  },
  {
   "cell_type": "code",
   "execution_count": 4,
   "id": "03406425-d180-43f3-a4ed-12e915540f2a",
   "metadata": {},
   "outputs": [],
   "source": [
    "all_sems = sem_1 + sem_2"
   ]
  },
  {
   "cell_type": "code",
   "execution_count": 5,
   "id": "2a5061aa-a9af-4ca8-8513-886360e75b88",
   "metadata": {},
   "outputs": [
    {
     "data": {
      "text/plain": [
       "Algebra     NaN\n",
       "CS          NaN\n",
       "Math        NaN\n",
       "Physics    35.0\n",
       "dtype: float64"
      ]
     },
     "execution_count": 5,
     "metadata": {},
     "output_type": "execute_result"
    }
   ],
   "source": [
    "all_sems"
   ]
  }
 ],
 "metadata": {
  "kernelspec": {
   "display_name": "Python 3 (ipykernel)",
   "language": "python",
   "name": "python3"
  },
  "language_info": {
   "codemirror_mode": {
    "name": "ipython",
    "version": 3
   },
   "file_extension": ".py",
   "mimetype": "text/x-python",
   "name": "python",
   "nbconvert_exporter": "python",
   "pygments_lexer": "ipython3",
   "version": "3.12.3"
  },
  "widgets": {
   "application/vnd.jupyter.widget-state+json": {
    "state": {},
    "version_major": 2,
    "version_minor": 0
   }
  }
 },
 "nbformat": 4,
 "nbformat_minor": 5
}
