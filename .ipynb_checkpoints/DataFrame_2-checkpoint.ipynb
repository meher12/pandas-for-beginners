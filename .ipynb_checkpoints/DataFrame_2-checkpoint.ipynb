{
 "cells": [
  {
   "cell_type": "code",
   "execution_count": 2,
   "id": "df88ab12-9d45-4893-90fc-78bdcc48527a",
   "metadata": {},
   "outputs": [],
   "source": [
    "import pandas as pd\n",
    "import numpy as np\n",
    "from numpy.random import randn \n",
    "\n",
    "np.random.seed(1234567)"
   ]
  },
  {
   "cell_type": "code",
   "execution_count": 19,
   "id": "57ce6416-5aa7-4652-8f5d-c68ad7019a2f",
   "metadata": {},
   "outputs": [],
   "source": [
    "df = pd.DataFrame(\n",
    "    randn(5, 3),\n",
    "    index= ['A', 'B', 'C', 'D', 'E'],\n",
    "    columns = ['C1', 'C2', 'C3']\n",
    ")"
   ]
  },
  {
   "cell_type": "code",
   "execution_count": 21,
   "id": "b6ca666b-4272-4a1f-b74e-9662c6edac4c",
   "metadata": {},
   "outputs": [
    {
     "data": {
      "text/html": [
       "<div>\n",
       "<style scoped>\n",
       "    .dataframe tbody tr th:only-of-type {\n",
       "        vertical-align: middle;\n",
       "    }\n",
       "\n",
       "    .dataframe tbody tr th {\n",
       "        vertical-align: top;\n",
       "    }\n",
       "\n",
       "    .dataframe thead th {\n",
       "        text-align: right;\n",
       "    }\n",
       "</style>\n",
       "<table border=\"1\" class=\"dataframe\">\n",
       "  <thead>\n",
       "    <tr style=\"text-align: right;\">\n",
       "      <th></th>\n",
       "      <th>C1</th>\n",
       "      <th>C2</th>\n",
       "      <th>C3</th>\n",
       "    </tr>\n",
       "  </thead>\n",
       "  <tbody>\n",
       "    <tr>\n",
       "      <th>A</th>\n",
       "      <td>0.550832</td>\n",
       "      <td>-0.759563</td>\n",
       "      <td>1.223760</td>\n",
       "    </tr>\n",
       "    <tr>\n",
       "      <th>B</th>\n",
       "      <td>-0.159821</td>\n",
       "      <td>-1.455847</td>\n",
       "      <td>1.208524</td>\n",
       "    </tr>\n",
       "    <tr>\n",
       "      <th>C</th>\n",
       "      <td>-1.721527</td>\n",
       "      <td>-0.005897</td>\n",
       "      <td>0.870294</td>\n",
       "    </tr>\n",
       "    <tr>\n",
       "      <th>D</th>\n",
       "      <td>-1.265546</td>\n",
       "      <td>-1.404829</td>\n",
       "      <td>-0.299535</td>\n",
       "    </tr>\n",
       "    <tr>\n",
       "      <th>E</th>\n",
       "      <td>0.962685</td>\n",
       "      <td>0.122264</td>\n",
       "      <td>1.402289</td>\n",
       "    </tr>\n",
       "  </tbody>\n",
       "</table>\n",
       "</div>"
      ],
      "text/plain": [
       "         C1        C2        C3\n",
       "A  0.550832 -0.759563  1.223760\n",
       "B -0.159821 -1.455847  1.208524\n",
       "C -1.721527 -0.005897  0.870294\n",
       "D -1.265546 -1.404829 -0.299535\n",
       "E  0.962685  0.122264  1.402289"
      ]
     },
     "execution_count": 21,
     "metadata": {},
     "output_type": "execute_result"
    }
   ],
   "source": [
    "# df.head(n=2)\n",
    "df"
   ]
  },
  {
   "cell_type": "code",
   "execution_count": 25,
   "id": "f3193571-a55c-4095-9ba0-1b662a064b00",
   "metadata": {},
   "outputs": [
    {
     "data": {
      "text/html": [
       "<div>\n",
       "<style scoped>\n",
       "    .dataframe tbody tr th:only-of-type {\n",
       "        vertical-align: middle;\n",
       "    }\n",
       "\n",
       "    .dataframe tbody tr th {\n",
       "        vertical-align: top;\n",
       "    }\n",
       "\n",
       "    .dataframe thead th {\n",
       "        text-align: right;\n",
       "    }\n",
       "</style>\n",
       "<table border=\"1\" class=\"dataframe\">\n",
       "  <thead>\n",
       "    <tr style=\"text-align: right;\">\n",
       "      <th></th>\n",
       "      <th>C1</th>\n",
       "      <th>C2</th>\n",
       "      <th>C3</th>\n",
       "    </tr>\n",
       "  </thead>\n",
       "  <tbody>\n",
       "    <tr>\n",
       "      <th>A</th>\n",
       "      <td>False</td>\n",
       "      <td>True</td>\n",
       "      <td>False</td>\n",
       "    </tr>\n",
       "    <tr>\n",
       "      <th>B</th>\n",
       "      <td>True</td>\n",
       "      <td>True</td>\n",
       "      <td>False</td>\n",
       "    </tr>\n",
       "    <tr>\n",
       "      <th>C</th>\n",
       "      <td>True</td>\n",
       "      <td>True</td>\n",
       "      <td>False</td>\n",
       "    </tr>\n",
       "    <tr>\n",
       "      <th>D</th>\n",
       "      <td>True</td>\n",
       "      <td>True</td>\n",
       "      <td>True</td>\n",
       "    </tr>\n",
       "    <tr>\n",
       "      <th>E</th>\n",
       "      <td>False</td>\n",
       "      <td>False</td>\n",
       "      <td>False</td>\n",
       "    </tr>\n",
       "  </tbody>\n",
       "</table>\n",
       "</div>"
      ],
      "text/plain": [
       "      C1     C2     C3\n",
       "A  False   True  False\n",
       "B   True   True  False\n",
       "C   True   True  False\n",
       "D   True   True   True\n",
       "E  False  False  False"
      ]
     },
     "execution_count": 25,
     "metadata": {},
     "output_type": "execute_result"
    }
   ],
   "source": [
    "df <= 0"
   ]
  },
  {
   "cell_type": "code",
   "execution_count": 23,
   "id": "a51be4c9-9de6-4c1a-8380-8d8e67617081",
   "metadata": {},
   "outputs": [],
   "source": [
    "# Filtering the DataFrame\n",
    "filtered_df = df[df >= 0]\n",
    "\n",
    "# Option 1: Drop rows with NaN values\n",
    "# df_no_nan = filtered_df.dropna()\n",
    "\n",
    "# # Option 2: Fill NaN values with 0\n",
    "# df_filled = filtered_df.fillna(0)\n",
    "\n",
    "# print(\"Filtered DataFrame (only elements >= 0):\")\n",
    "# print(filtered_df)\n",
    "# print(\"\\nDataFrame with NaN values dropped:\")\n",
    "# print(df_no_nan)\n",
    "# print(\"\\nDataFrame with NaN values filled with 0:\")\n",
    "# print(df_filled)\n"
   ]
  },
  {
   "cell_type": "code",
   "execution_count": 31,
   "id": "baee5512-c0b1-4d85-9329-7e5ced93bcb0",
   "metadata": {},
   "outputs": [
    {
     "data": {
      "text/plain": [
       "A   -0.759563\n",
       "B   -1.455847\n",
       "C   -0.005897\n",
       "D   -1.404829\n",
       "E    0.122264\n",
       "Name: C2, dtype: float64"
      ]
     },
     "execution_count": 31,
     "metadata": {},
     "output_type": "execute_result"
    }
   ],
   "source": [
    "# filtring by cell C3\n",
    "# df_negative = df[df['C3'] <= 0]\n",
    "df_2 = df[(df['C2'] <= 0) | (df['C1'] >= 0.5)]['C2']\n",
    "df_2"
   ]
  }
 ],
 "metadata": {
  "kernelspec": {
   "display_name": "Python 3 (ipykernel)",
   "language": "python",
   "name": "python3"
  },
  "language_info": {
   "codemirror_mode": {
    "name": "ipython",
    "version": 3
   },
   "file_extension": ".py",
   "mimetype": "text/x-python",
   "name": "python",
   "nbconvert_exporter": "python",
   "pygments_lexer": "ipython3",
   "version": "3.12.3"
  },
  "widgets": {
   "application/vnd.jupyter.widget-state+json": {
    "state": {},
    "version_major": 2,
    "version_minor": 0
   }
  }
 },
 "nbformat": 4,
 "nbformat_minor": 5
}
